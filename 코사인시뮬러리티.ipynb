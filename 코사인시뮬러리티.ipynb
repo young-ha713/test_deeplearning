{
  "nbformat": 4,
  "nbformat_minor": 0,
  "metadata": {
    "colab": {
      "name": "코사인시뮬러리티.ipynb",
      "provenance": [],
      "collapsed_sections": [],
      "authorship_tag": "ABX9TyM27Ou7uENS886BF3CF7Td/",
      "include_colab_link": true
    },
    "kernelspec": {
      "name": "python3",
      "display_name": "Python 3"
    },
    "language_info": {
      "name": "python"
    }
  },
  "cells": [
    {
      "cell_type": "markdown",
      "metadata": {
        "id": "view-in-github",
        "colab_type": "text"
      },
      "source": [
        "<a href=\"https://colab.research.google.com/github/young-ha713/test_deeplearning/blob/main/%EC%BD%94%EC%82%AC%EC%9D%B8%EC%8B%9C%EB%AE%AC%EB%9F%AC%EB%A6%AC%ED%8B%B0.ipynb\" target=\"_parent\"><img src=\"https://colab.research.google.com/assets/colab-badge.svg\" alt=\"Open In Colab\"/></a>"
      ]
    },
    {
      "cell_type": "markdown",
      "metadata": {
        "id": "kZfDlQmFnDXN"
      },
      "source": [
        "##시뮬러리티\n",
        "\n",
        "바나나  사과  저는  좋아요\n",
        "문서1   0      1     1     1\n",
        "문서2   1      0     1     1\n",
        "문서3   2      0     2     2\n",
        "\n"
      ]
    },
    {
      "cell_type": "code",
      "metadata": {
        "id": "0w5unW8ji75c"
      },
      "source": [
        "from numpy import dot\n",
        "from numpy.linalg import norm\n",
        "import numpy as np\n",
        "def cos_sim(A, B):\n",
        "       return dot(A, B)/(norm(A)*norm(B))"
      ],
      "execution_count": 2,
      "outputs": []
    },
    {
      "cell_type": "code",
      "metadata": {
        "id": "1khkpr9GouW-"
      },
      "source": [
        "doc1 = np.array([1, 0 ,1 ,1 ,1 ])\n",
        "doc2 = np.array([2, 1, 0, 1 ,1])\n",
        "doc3 = np.array([3, 2, 0 ,2 ,2])"
      ],
      "execution_count": 4,
      "outputs": []
    },
    {
      "cell_type": "code",
      "metadata": {
        "colab": {
          "base_uri": "https://localhost:8080/"
        },
        "id": "38IRto7jpY3t",
        "outputId": "5457826a-6a64-431d-aefc-43267f3120dc"
      },
      "source": [
        "cos_sim(doc1,doc2)"
      ],
      "execution_count": 5,
      "outputs": [
        {
          "output_type": "execute_result",
          "data": {
            "text/plain": [
              "0.7559289460184544"
            ]
          },
          "metadata": {},
          "execution_count": 5
        }
      ]
    },
    {
      "cell_type": "code",
      "metadata": {
        "colab": {
          "base_uri": "https://localhost:8080/"
        },
        "id": "uY0JoYPgqMBF",
        "outputId": "fb50b0d7-f440-4a7e-a836-bbfdb6efe5c5"
      },
      "source": [
        "cos_sim(doc1,doc3)"
      ],
      "execution_count": 6,
      "outputs": [
        {
          "output_type": "execute_result",
          "data": {
            "text/plain": [
              "0.7637626158259734"
            ]
          },
          "metadata": {},
          "execution_count": 6
        }
      ]
    },
    {
      "cell_type": "markdown",
      "metadata": {
        "id": "pEtcZMWrtqW5"
      },
      "source": [
        "#네이버 애이피아이 사용\n",
        "블로그 서치\n",
        "0DCbwNRYRLHsaBTP4wmp / yguVTpglHT\n",
        "naver developers 사용\n"
      ]
    },
    {
      "cell_type": "code",
      "metadata": {
        "id": "0r8DCKsottOO"
      },
      "source": [
        ""
      ],
      "execution_count": null,
      "outputs": []
    }
  ]
}